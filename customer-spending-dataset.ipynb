{
 "cells": [
  {
   "cell_type": "markdown",
   "id": "32928ca9",
   "metadata": {},
   "source": [
    "# Predicting customer spending using machine learning\n",
    "\n",
    "This machine learning model helps predict annual spending of the customers using various Python-based machine learning and data science libraries.\n",
    "\n",
    "## 1. Problem Definition\n",
    "\n",
    "> How well can we predict annual spending of the customer by certain parameters?\n",
    "\n",
    "## 2. Data\n",
    "\n",
    "The data is available on Kaggle. https://www.kaggle.com/datasets/goyaladi/customer-spending-dataset/data\n",
    "\n",
    "## 3. Evaluation\n",
    "\n",
    "> The goal is get MSE value closer to zero.\n",
    "\n",
    "## 4. Features\n",
    "\n",
    "1. name - The name of the customer (textual data).\n",
    "2. age - The age of the customer (numeric data).\n",
    "3. gender - The gender of the customer (categorical data).\n",
    "4. education - The highest level of education attained by the customer (categorical data).\n",
    "5. income - The annual income of the customer (numeric data).\n",
    "6. country - The country of origin of the customer (textual data).\n",
    "7. purchase_frequency - The frequency of customer purchases, ranging from 0.1 to 1.0 (numeric data).\n",
    "8. spending - The annual spending of the customer, calculated based on various factors (numeric data).\n"
   ]
  },
  {
   "cell_type": "code",
   "execution_count": 1,
   "id": "24a6284d",
   "metadata": {},
   "outputs": [],
   "source": [
    "# Exploratory data analysis and data visualization libraries\n",
    "import pandas as pd\n",
    "import numpy as np\n",
    "import matplotlib.pyplot as plt\n",
    "import seaborn as sns\n",
    "\n",
    "# We want our plots to appear inside the notebook\n",
    "%matplotlib inline\n",
    "\n",
    "# Machine learning libraries\n",
    "from sklearn.linear_model import LinearRegression\n",
    "from sklearn.ensemble import GradientBoostingRegressor\n",
    "from sklearn.linear_model import Lasso\n",
    "from sklearn.ensemble import RandomForestRegressor\n",
    "\n",
    "# Model evaluations\n",
    "from sklearn import metrics\n",
    "from sklearn.pipeline import Pipeline\n",
    "from sklearn.model_selection import train_test_split, cross_val_score\n",
    "from sklearn.model_selection import GridSearchCV\n",
    "from sklearn import preprocessing\n",
    "from sklearn.preprocessing import StandardScaler"
   ]
  },
  {
   "cell_type": "code",
   "execution_count": 2,
   "id": "c7846d14",
   "metadata": {},
   "outputs": [
    {
     "data": {
      "text/html": [
       "<div>\n",
       "<style scoped>\n",
       "    .dataframe tbody tr th:only-of-type {\n",
       "        vertical-align: middle;\n",
       "    }\n",
       "\n",
       "    .dataframe tbody tr th {\n",
       "        vertical-align: top;\n",
       "    }\n",
       "\n",
       "    .dataframe thead th {\n",
       "        text-align: right;\n",
       "    }\n",
       "</style>\n",
       "<table border=\"1\" class=\"dataframe\">\n",
       "  <thead>\n",
       "    <tr style=\"text-align: right;\">\n",
       "      <th></th>\n",
       "      <th>name</th>\n",
       "      <th>age</th>\n",
       "      <th>gender</th>\n",
       "      <th>education</th>\n",
       "      <th>income</th>\n",
       "      <th>country</th>\n",
       "      <th>purchase_frequency</th>\n",
       "      <th>spending</th>\n",
       "    </tr>\n",
       "  </thead>\n",
       "  <tbody>\n",
       "    <tr>\n",
       "      <th>0</th>\n",
       "      <td>Teresa Williams MD</td>\n",
       "      <td>42</td>\n",
       "      <td>Female</td>\n",
       "      <td>High School</td>\n",
       "      <td>53936</td>\n",
       "      <td>Slovenia</td>\n",
       "      <td>0.9</td>\n",
       "      <td>13227.120</td>\n",
       "    </tr>\n",
       "    <tr>\n",
       "      <th>1</th>\n",
       "      <td>Christine Myers</td>\n",
       "      <td>49</td>\n",
       "      <td>Female</td>\n",
       "      <td>Master</td>\n",
       "      <td>82468</td>\n",
       "      <td>Aruba</td>\n",
       "      <td>0.6</td>\n",
       "      <td>12674.040</td>\n",
       "    </tr>\n",
       "    <tr>\n",
       "      <th>2</th>\n",
       "      <td>Dwayne Moreno</td>\n",
       "      <td>55</td>\n",
       "      <td>Male</td>\n",
       "      <td>Bachelor</td>\n",
       "      <td>56941</td>\n",
       "      <td>Cyprus</td>\n",
       "      <td>0.3</td>\n",
       "      <td>5354.115</td>\n",
       "    </tr>\n",
       "    <tr>\n",
       "      <th>3</th>\n",
       "      <td>Amy Norton</td>\n",
       "      <td>24</td>\n",
       "      <td>Female</td>\n",
       "      <td>Bachelor</td>\n",
       "      <td>60651</td>\n",
       "      <td>Palau</td>\n",
       "      <td>0.2</td>\n",
       "      <td>2606.510</td>\n",
       "    </tr>\n",
       "    <tr>\n",
       "      <th>4</th>\n",
       "      <td>Tonya Adams</td>\n",
       "      <td>64</td>\n",
       "      <td>Male</td>\n",
       "      <td>Master</td>\n",
       "      <td>81884</td>\n",
       "      <td>Zambia</td>\n",
       "      <td>0.9</td>\n",
       "      <td>18984.780</td>\n",
       "    </tr>\n",
       "  </tbody>\n",
       "</table>\n",
       "</div>"
      ],
      "text/plain": [
       "                 name  age  gender    education  income   country  \\\n",
       "0  Teresa Williams MD   42  Female  High School   53936  Slovenia   \n",
       "1     Christine Myers   49  Female       Master   82468     Aruba   \n",
       "2       Dwayne Moreno   55    Male     Bachelor   56941    Cyprus   \n",
       "3          Amy Norton   24  Female     Bachelor   60651     Palau   \n",
       "4         Tonya Adams   64    Male       Master   81884    Zambia   \n",
       "\n",
       "   purchase_frequency   spending  \n",
       "0                 0.9  13227.120  \n",
       "1                 0.6  12674.040  \n",
       "2                 0.3   5354.115  \n",
       "3                 0.2   2606.510  \n",
       "4                 0.9  18984.780  "
      ]
     },
     "execution_count": 2,
     "metadata": {},
     "output_type": "execute_result"
    }
   ],
   "source": [
    "# Load the dataset\n",
    "df = pd.read_csv('customer_data.csv')\n",
    "df.head()"
   ]
  },
  {
   "cell_type": "code",
   "execution_count": 3,
   "id": "9839502f",
   "metadata": {},
   "outputs": [
    {
     "data": {
      "text/plain": [
       "(1000, 8)"
      ]
     },
     "execution_count": 3,
     "metadata": {},
     "output_type": "execute_result"
    }
   ],
   "source": [
    "# (rows, columns)\n",
    "df.shape"
   ]
  },
  {
   "cell_type": "markdown",
   "id": "60dd6fdc",
   "metadata": {},
   "source": [
    "## Data Exploration (exploratory data analysis or EDA)"
   ]
  },
  {
   "cell_type": "code",
   "execution_count": 4,
   "id": "19abe815",
   "metadata": {
    "scrolled": true
   },
   "outputs": [
    {
     "data": {
      "text/html": [
       "<div>\n",
       "<style scoped>\n",
       "    .dataframe tbody tr th:only-of-type {\n",
       "        vertical-align: middle;\n",
       "    }\n",
       "\n",
       "    .dataframe tbody tr th {\n",
       "        vertical-align: top;\n",
       "    }\n",
       "\n",
       "    .dataframe thead th {\n",
       "        text-align: right;\n",
       "    }\n",
       "</style>\n",
       "<table border=\"1\" class=\"dataframe\">\n",
       "  <thead>\n",
       "    <tr style=\"text-align: right;\">\n",
       "      <th></th>\n",
       "      <th>age</th>\n",
       "      <th>income</th>\n",
       "      <th>purchase_frequency</th>\n",
       "      <th>spending</th>\n",
       "    </tr>\n",
       "  </thead>\n",
       "  <tbody>\n",
       "    <tr>\n",
       "      <th>count</th>\n",
       "      <td>1000.000000</td>\n",
       "      <td>1000.000000</td>\n",
       "      <td>1000.000000</td>\n",
       "      <td>1000.000000</td>\n",
       "    </tr>\n",
       "    <tr>\n",
       "      <th>mean</th>\n",
       "      <td>41.754000</td>\n",
       "      <td>59277.852000</td>\n",
       "      <td>0.554600</td>\n",
       "      <td>9613.296835</td>\n",
       "    </tr>\n",
       "    <tr>\n",
       "      <th>std</th>\n",
       "      <td>13.778582</td>\n",
       "      <td>23258.377128</td>\n",
       "      <td>0.284675</td>\n",
       "      <td>5484.707210</td>\n",
       "    </tr>\n",
       "    <tr>\n",
       "      <th>min</th>\n",
       "      <td>18.000000</td>\n",
       "      <td>20031.000000</td>\n",
       "      <td>0.100000</td>\n",
       "      <td>611.985000</td>\n",
       "    </tr>\n",
       "    <tr>\n",
       "      <th>25%</th>\n",
       "      <td>30.000000</td>\n",
       "      <td>38825.500000</td>\n",
       "      <td>0.300000</td>\n",
       "      <td>5020.425000</td>\n",
       "    </tr>\n",
       "    <tr>\n",
       "      <th>50%</th>\n",
       "      <td>42.000000</td>\n",
       "      <td>58972.000000</td>\n",
       "      <td>0.600000</td>\n",
       "      <td>9430.395000</td>\n",
       "    </tr>\n",
       "    <tr>\n",
       "      <th>75%</th>\n",
       "      <td>54.000000</td>\n",
       "      <td>79114.000000</td>\n",
       "      <td>0.800000</td>\n",
       "      <td>13645.507500</td>\n",
       "    </tr>\n",
       "    <tr>\n",
       "      <th>max</th>\n",
       "      <td>65.000000</td>\n",
       "      <td>99780.000000</td>\n",
       "      <td>1.000000</td>\n",
       "      <td>25546.500000</td>\n",
       "    </tr>\n",
       "  </tbody>\n",
       "</table>\n",
       "</div>"
      ],
      "text/plain": [
       "               age        income  purchase_frequency      spending\n",
       "count  1000.000000   1000.000000         1000.000000   1000.000000\n",
       "mean     41.754000  59277.852000            0.554600   9613.296835\n",
       "std      13.778582  23258.377128            0.284675   5484.707210\n",
       "min      18.000000  20031.000000            0.100000    611.985000\n",
       "25%      30.000000  38825.500000            0.300000   5020.425000\n",
       "50%      42.000000  58972.000000            0.600000   9430.395000\n",
       "75%      54.000000  79114.000000            0.800000  13645.507500\n",
       "max      65.000000  99780.000000            1.000000  25546.500000"
      ]
     },
     "execution_count": 4,
     "metadata": {},
     "output_type": "execute_result"
    }
   ],
   "source": [
    "# Generate descriptive statistics\n",
    "df.describe()"
   ]
  },
  {
   "cell_type": "code",
   "execution_count": 5,
   "id": "c9350d9a",
   "metadata": {},
   "outputs": [
    {
     "data": {
      "text/plain": [
       "name                  0\n",
       "age                   0\n",
       "gender                0\n",
       "education             0\n",
       "income                0\n",
       "country               0\n",
       "purchase_frequency    0\n",
       "spending              0\n",
       "dtype: int64"
      ]
     },
     "execution_count": 5,
     "metadata": {},
     "output_type": "execute_result"
    }
   ],
   "source": [
    "# Detect missing values\n",
    "df.isna().sum()"
   ]
  },
  {
   "cell_type": "code",
   "execution_count": 6,
   "id": "b1010a34",
   "metadata": {},
   "outputs": [
    {
     "name": "stdout",
     "output_type": "stream",
     "text": [
      "<class 'pandas.core.frame.DataFrame'>\n",
      "RangeIndex: 1000 entries, 0 to 999\n",
      "Data columns (total 8 columns):\n",
      " #   Column              Non-Null Count  Dtype  \n",
      "---  ------              --------------  -----  \n",
      " 0   name                1000 non-null   object \n",
      " 1   age                 1000 non-null   int64  \n",
      " 2   gender              1000 non-null   object \n",
      " 3   education           1000 non-null   object \n",
      " 4   income              1000 non-null   int64  \n",
      " 5   country             1000 non-null   object \n",
      " 6   purchase_frequency  1000 non-null   float64\n",
      " 7   spending            1000 non-null   float64\n",
      "dtypes: float64(2), int64(2), object(4)\n",
      "memory usage: 62.6+ KB\n"
     ]
    }
   ],
   "source": [
    "# Print a concise summary of a DataFrame\n",
    "df.info()"
   ]
  },
  {
   "cell_type": "code",
   "execution_count": 7,
   "id": "4fd3cad0",
   "metadata": {},
   "outputs": [
    {
     "data": {
      "text/plain": [
       "name                   991\n",
       "age                     48\n",
       "gender                   2\n",
       "education                4\n",
       "income                 997\n",
       "country                239\n",
       "purchase_frequency      10\n",
       "spending              1000\n",
       "dtype: int64"
      ]
     },
     "execution_count": 7,
     "metadata": {},
     "output_type": "execute_result"
    }
   ],
   "source": [
    "# Count unique values in each column\n",
    "df.nunique()"
   ]
  },
  {
   "cell_type": "code",
   "execution_count": 8,
   "id": "fdd43fb7",
   "metadata": {},
   "outputs": [
    {
     "data": {
      "text/plain": [
       "Bachelor       271\n",
       "PhD            248\n",
       "High School    245\n",
       "Master         236\n",
       "Name: education, dtype: int64"
      ]
     },
     "execution_count": 8,
     "metadata": {},
     "output_type": "execute_result"
    }
   ],
   "source": [
    "# Return a Series containing counts of unique rows in the DataFrame\n",
    "df[\"education\"].value_counts()"
   ]
  },
  {
   "cell_type": "code",
   "execution_count": 9,
   "id": "75a03c5f",
   "metadata": {},
   "outputs": [
    {
     "data": {
      "text/plain": [
       "Congo                12\n",
       "Palau                11\n",
       "Slovenia             10\n",
       "Algeria               9\n",
       "Ukraine               9\n",
       "                     ..\n",
       "Equatorial Guinea     1\n",
       "Solomon Islands       1\n",
       "Niger                 1\n",
       "Botswana              1\n",
       "Sudan                 1\n",
       "Name: country, Length: 239, dtype: int64"
      ]
     },
     "execution_count": 9,
     "metadata": {},
     "output_type": "execute_result"
    }
   ],
   "source": [
    "df[\"country\"].value_counts()"
   ]
  },
  {
   "cell_type": "code",
   "execution_count": 10,
   "id": "d7df7ee4",
   "metadata": {},
   "outputs": [
    {
     "data": {
      "text/plain": [
       "Male      501\n",
       "Female    499\n",
       "Name: gender, dtype: int64"
      ]
     },
     "execution_count": 10,
     "metadata": {},
     "output_type": "execute_result"
    }
   ],
   "source": [
    "df[\"gender\"].value_counts()"
   ]
  },
  {
   "cell_type": "code",
   "execution_count": 11,
   "id": "df71ae54",
   "metadata": {},
   "outputs": [
    {
     "data": {
      "text/plain": [
       "672    18\n",
       "863    18\n",
       "364    18\n",
       "362    18\n",
       "135    18\n",
       "       ..\n",
       "873    65\n",
       "508    65\n",
       "126    65\n",
       "663    65\n",
       "281    65\n",
       "Name: age, Length: 1000, dtype: int64"
      ]
     },
     "execution_count": 11,
     "metadata": {},
     "output_type": "execute_result"
    }
   ],
   "source": [
    "df[\"age\"].sort_values(ascending = True)"
   ]
  },
  {
   "cell_type": "code",
   "execution_count": 12,
   "id": "d03299d8",
   "metadata": {},
   "outputs": [
    {
     "data": {
      "text/plain": [
       "<seaborn.axisgrid.FacetGrid at 0x140813574c0>"
      ]
     },
     "execution_count": 12,
     "metadata": {},
     "output_type": "execute_result"
    },
    {
     "data": {
      "image/png": "[encoded data removed]",
      "text/plain": [
       "<Figure size 500x500 with 1 Axes>"
      ]
     },
     "metadata": {},
     "output_type": "display_data"
    }
   ],
   "source": [
    "sns.set_style(\"darkgrid\")\n",
    "sns.set_palette(\"muted\")\n",
    "\n",
    "sns.relplot(x = \"age\", y = \"spending\", data = df)"
   ]
  },
  {
   "cell_type": "code",
   "execution_count": 13,
   "id": "2effdd2c",
   "metadata": {},
   "outputs": [
    {
     "data": {
      "text/plain": [
       "<seaborn.axisgrid.FacetGrid at 0x14081357130>"
      ]
     },
     "execution_count": 13,
     "metadata": {},
     "output_type": "execute_result"
    },
    {
     "data": {
      "image/png": "[encoded data removed]",
      "text/plain": [
       "<Figure size 500x500 with 1 Axes>"
      ]
     },
     "metadata": {},
     "output_type": "display_data"
    }
   ],
   "source": [
    "sns.relplot(x = \"income\", y = \"spending\", data = df)"
   ]
  },
  {
   "cell_type": "code",
   "execution_count": 14,
   "id": "64dbad9e",
   "metadata": {},
   "outputs": [
    {
     "name": "stderr",
     "output_type": "stream",
     "text": [
      "C:\\Users\\lenovo\\AppData\\Local\\Temp\\ipykernel_11868\\2165028973.py:1: FutureWarning: The default value of numeric_only in DataFrame.corr is deprecated. In a future version, it will default to False. Select only valid columns or specify the value of numeric_only to silence this warning.\n",
      "  corr=df.corr() # Compute pairwise correlation of columns\n",
      "C:\\Users\\lenovo\\AppData\\Local\\Temp\\ipykernel_11868\\2165028973.py:2: FutureWarning: The default value of numeric_only in DataFrame.corr is deprecated. In a future version, it will default to False. Select only valid columns or specify the value of numeric_only to silence this warning.\n",
      "  sns.heatmap(df.corr(),xticklabels=corr.columns, yticklabels=corr.columns,vmin=-1, vmax=1, annot=True)\n"
     ]
    },
    {
     "data": {
      "text/plain": [
       "<Axes: >"
      ]
     },
     "execution_count": 14,
     "metadata": {},
     "output_type": "execute_result"
    },
    {
     "data": {
      "image/png": "[encoded data removed]",
      "text/plain": [
       "<Figure size 640x480 with 2 Axes>"
      ]
     },
     "metadata": {},
     "output_type": "display_data"
    }
   ],
   "source": [
    "corr=df.corr() # Compute pairwise correlation of columns\n",
    "sns.heatmap(df.corr(),xticklabels=corr.columns, yticklabels=corr.columns,vmin=-1, vmax=1, annot=True)"
   ]
  },
  {
   "cell_type": "markdown",
   "id": "7cceb55f",
   "metadata": {},
   "source": [
    "> We will drop income column due to negative correlation between age and income."
   ]
  },
  {
   "cell_type": "markdown",
   "id": "692d37f0",
   "metadata": {},
   "source": [
    "## 5. Modelling"
   ]
  },
  {
   "cell_type": "code",
   "execution_count": 15,
   "id": "e2977d93",
   "metadata": {},
   "outputs": [
    {
     "data": {
      "text/html": [
       "<div>\n",
       "<style scoped>\n",
       "    .dataframe tbody tr th:only-of-type {\n",
       "        vertical-align: middle;\n",
       "    }\n",
       "\n",
       "    .dataframe tbody tr th {\n",
       "        vertical-align: top;\n",
       "    }\n",
       "\n",
       "    .dataframe thead th {\n",
       "        text-align: right;\n",
       "    }\n",
       "</style>\n",
       "<table border=\"1\" class=\"dataframe\">\n",
       "  <thead>\n",
       "    <tr style=\"text-align: right;\">\n",
       "      <th></th>\n",
       "      <th>name</th>\n",
       "      <th>age</th>\n",
       "      <th>gender</th>\n",
       "      <th>education</th>\n",
       "      <th>income</th>\n",
       "      <th>country</th>\n",
       "      <th>purchase_frequency</th>\n",
       "      <th>spending</th>\n",
       "    </tr>\n",
       "  </thead>\n",
       "  <tbody>\n",
       "    <tr>\n",
       "      <th>0</th>\n",
       "      <td>Teresa Williams MD</td>\n",
       "      <td>42</td>\n",
       "      <td>Female</td>\n",
       "      <td>High School</td>\n",
       "      <td>53936</td>\n",
       "      <td>Slovenia</td>\n",
       "      <td>0.9</td>\n",
       "      <td>13227.120</td>\n",
       "    </tr>\n",
       "    <tr>\n",
       "      <th>1</th>\n",
       "      <td>Christine Myers</td>\n",
       "      <td>49</td>\n",
       "      <td>Female</td>\n",
       "      <td>Master</td>\n",
       "      <td>82468</td>\n",
       "      <td>Aruba</td>\n",
       "      <td>0.6</td>\n",
       "      <td>12674.040</td>\n",
       "    </tr>\n",
       "    <tr>\n",
       "      <th>2</th>\n",
       "      <td>Dwayne Moreno</td>\n",
       "      <td>55</td>\n",
       "      <td>Male</td>\n",
       "      <td>Bachelor</td>\n",
       "      <td>56941</td>\n",
       "      <td>Cyprus</td>\n",
       "      <td>0.3</td>\n",
       "      <td>5354.115</td>\n",
       "    </tr>\n",
       "    <tr>\n",
       "      <th>3</th>\n",
       "      <td>Amy Norton</td>\n",
       "      <td>24</td>\n",
       "      <td>Female</td>\n",
       "      <td>Bachelor</td>\n",
       "      <td>60651</td>\n",
       "      <td>Palau</td>\n",
       "      <td>0.2</td>\n",
       "      <td>2606.510</td>\n",
       "    </tr>\n",
       "    <tr>\n",
       "      <th>4</th>\n",
       "      <td>Tonya Adams</td>\n",
       "      <td>64</td>\n",
       "      <td>Male</td>\n",
       "      <td>Master</td>\n",
       "      <td>81884</td>\n",
       "      <td>Zambia</td>\n",
       "      <td>0.9</td>\n",
       "      <td>18984.780</td>\n",
       "    </tr>\n",
       "    <tr>\n",
       "      <th>...</th>\n",
       "      <td>...</td>\n",
       "      <td>...</td>\n",
       "      <td>...</td>\n",
       "      <td>...</td>\n",
       "      <td>...</td>\n",
       "      <td>...</td>\n",
       "      <td>...</td>\n",
       "      <td>...</td>\n",
       "    </tr>\n",
       "    <tr>\n",
       "      <th>995</th>\n",
       "      <td>Jason Haas</td>\n",
       "      <td>42</td>\n",
       "      <td>Female</td>\n",
       "      <td>PhD</td>\n",
       "      <td>98170</td>\n",
       "      <td>Bosnia and Herzegovina</td>\n",
       "      <td>0.7</td>\n",
       "      <td>17435.950</td>\n",
       "    </tr>\n",
       "    <tr>\n",
       "      <th>996</th>\n",
       "      <td>Sharon Valdez</td>\n",
       "      <td>39</td>\n",
       "      <td>Male</td>\n",
       "      <td>High School</td>\n",
       "      <td>59174</td>\n",
       "      <td>Eritrea</td>\n",
       "      <td>0.9</td>\n",
       "      <td>11662.830</td>\n",
       "    </tr>\n",
       "    <tr>\n",
       "      <th>997</th>\n",
       "      <td>Andrew Taylor</td>\n",
       "      <td>50</td>\n",
       "      <td>Male</td>\n",
       "      <td>Master</td>\n",
       "      <td>59808</td>\n",
       "      <td>Serbia</td>\n",
       "      <td>0.4</td>\n",
       "      <td>7196.160</td>\n",
       "    </tr>\n",
       "    <tr>\n",
       "      <th>998</th>\n",
       "      <td>Jessica Johnson</td>\n",
       "      <td>50</td>\n",
       "      <td>Female</td>\n",
       "      <td>Master</td>\n",
       "      <td>58272</td>\n",
       "      <td>Cyprus</td>\n",
       "      <td>0.7</td>\n",
       "      <td>13939.520</td>\n",
       "    </tr>\n",
       "    <tr>\n",
       "      <th>999</th>\n",
       "      <td>Brian Williams</td>\n",
       "      <td>38</td>\n",
       "      <td>Female</td>\n",
       "      <td>Bachelor</td>\n",
       "      <td>32512</td>\n",
       "      <td>Turkey</td>\n",
       "      <td>0.5</td>\n",
       "      <td>8312.800</td>\n",
       "    </tr>\n",
       "  </tbody>\n",
       "</table>\n",
       "<p>1000 rows × 8 columns</p>\n",
       "</div>"
      ],
      "text/plain": [
       "                   name  age  gender    education  income  \\\n",
       "0    Teresa Williams MD   42  Female  High School   53936   \n",
       "1       Christine Myers   49  Female       Master   82468   \n",
       "2         Dwayne Moreno   55    Male     Bachelor   56941   \n",
       "3            Amy Norton   24  Female     Bachelor   60651   \n",
       "4           Tonya Adams   64    Male       Master   81884   \n",
       "..                  ...  ...     ...          ...     ...   \n",
       "995          Jason Haas   42  Female          PhD   98170   \n",
       "996       Sharon Valdez   39    Male  High School   59174   \n",
       "997       Andrew Taylor   50    Male       Master   59808   \n",
       "998     Jessica Johnson   50  Female       Master   58272   \n",
       "999      Brian Williams   38  Female     Bachelor   32512   \n",
       "\n",
       "                    country  purchase_frequency   spending  \n",
       "0                  Slovenia                 0.9  13227.120  \n",
       "1                     Aruba                 0.6  12674.040  \n",
       "2                    Cyprus                 0.3   5354.115  \n",
       "3                     Palau                 0.2   2606.510  \n",
       "4                    Zambia                 0.9  18984.780  \n",
       "..                      ...                 ...        ...  \n",
       "995  Bosnia and Herzegovina                 0.7  17435.950  \n",
       "996                 Eritrea                 0.9  11662.830  \n",
       "997                  Serbia                 0.4   7196.160  \n",
       "998                  Cyprus                 0.7  13939.520  \n",
       "999                  Turkey                 0.5   8312.800  \n",
       "\n",
       "[1000 rows x 8 columns]"
      ]
     },
     "execution_count": 15,
     "metadata": {},
     "output_type": "execute_result"
    }
   ],
   "source": [
    "df"
   ]
  },
  {
   "cell_type": "code",
   "execution_count": 16,
   "id": "ebf44d34",
   "metadata": {},
   "outputs": [
    {
     "data": {
      "text/html": [
       "<div>\n",
       "<style scoped>\n",
       "    .dataframe tbody tr th:only-of-type {\n",
       "        vertical-align: middle;\n",
       "    }\n",
       "\n",
       "    .dataframe tbody tr th {\n",
       "        vertical-align: top;\n",
       "    }\n",
       "\n",
       "    .dataframe thead th {\n",
       "        text-align: right;\n",
       "    }\n",
       "</style>\n",
       "<table border=\"1\" class=\"dataframe\">\n",
       "  <thead>\n",
       "    <tr style=\"text-align: right;\">\n",
       "      <th></th>\n",
       "      <th>gender_Female</th>\n",
       "      <th>gender_Male</th>\n",
       "      <th>education_Bachelor</th>\n",
       "      <th>education_High School</th>\n",
       "      <th>education_Master</th>\n",
       "      <th>education_PhD</th>\n",
       "    </tr>\n",
       "  </thead>\n",
       "  <tbody>\n",
       "    <tr>\n",
       "      <th>0</th>\n",
       "      <td>1</td>\n",
       "      <td>0</td>\n",
       "      <td>0</td>\n",
       "      <td>1</td>\n",
       "      <td>0</td>\n",
       "      <td>0</td>\n",
       "    </tr>\n",
       "    <tr>\n",
       "      <th>1</th>\n",
       "      <td>1</td>\n",
       "      <td>0</td>\n",
       "      <td>0</td>\n",
       "      <td>0</td>\n",
       "      <td>1</td>\n",
       "      <td>0</td>\n",
       "    </tr>\n",
       "    <tr>\n",
       "      <th>2</th>\n",
       "      <td>0</td>\n",
       "      <td>1</td>\n",
       "      <td>1</td>\n",
       "      <td>0</td>\n",
       "      <td>0</td>\n",
       "      <td>0</td>\n",
       "    </tr>\n",
       "    <tr>\n",
       "      <th>3</th>\n",
       "      <td>1</td>\n",
       "      <td>0</td>\n",
       "      <td>1</td>\n",
       "      <td>0</td>\n",
       "      <td>0</td>\n",
       "      <td>0</td>\n",
       "    </tr>\n",
       "    <tr>\n",
       "      <th>4</th>\n",
       "      <td>0</td>\n",
       "      <td>1</td>\n",
       "      <td>0</td>\n",
       "      <td>0</td>\n",
       "      <td>1</td>\n",
       "      <td>0</td>\n",
       "    </tr>\n",
       "    <tr>\n",
       "      <th>...</th>\n",
       "      <td>...</td>\n",
       "      <td>...</td>\n",
       "      <td>...</td>\n",
       "      <td>...</td>\n",
       "      <td>...</td>\n",
       "      <td>...</td>\n",
       "    </tr>\n",
       "    <tr>\n",
       "      <th>995</th>\n",
       "      <td>1</td>\n",
       "      <td>0</td>\n",
       "      <td>0</td>\n",
       "      <td>0</td>\n",
       "      <td>0</td>\n",
       "      <td>1</td>\n",
       "    </tr>\n",
       "    <tr>\n",
       "      <th>996</th>\n",
       "      <td>0</td>\n",
       "      <td>1</td>\n",
       "      <td>0</td>\n",
       "      <td>1</td>\n",
       "      <td>0</td>\n",
       "      <td>0</td>\n",
       "    </tr>\n",
       "    <tr>\n",
       "      <th>997</th>\n",
       "      <td>0</td>\n",
       "      <td>1</td>\n",
       "      <td>0</td>\n",
       "      <td>0</td>\n",
       "      <td>1</td>\n",
       "      <td>0</td>\n",
       "    </tr>\n",
       "    <tr>\n",
       "      <th>998</th>\n",
       "      <td>1</td>\n",
       "      <td>0</td>\n",
       "      <td>0</td>\n",
       "      <td>0</td>\n",
       "      <td>1</td>\n",
       "      <td>0</td>\n",
       "    </tr>\n",
       "    <tr>\n",
       "      <th>999</th>\n",
       "      <td>1</td>\n",
       "      <td>0</td>\n",
       "      <td>1</td>\n",
       "      <td>0</td>\n",
       "      <td>0</td>\n",
       "      <td>0</td>\n",
       "    </tr>\n",
       "  </tbody>\n",
       "</table>\n",
       "<p>1000 rows × 6 columns</p>\n",
       "</div>"
      ],
      "text/plain": [
       "     gender_Female  gender_Male  education_Bachelor  education_High School  \\\n",
       "0                1            0                   0                      1   \n",
       "1                1            0                   0                      0   \n",
       "2                0            1                   1                      0   \n",
       "3                1            0                   1                      0   \n",
       "4                0            1                   0                      0   \n",
       "..             ...          ...                 ...                    ...   \n",
       "995              1            0                   0                      0   \n",
       "996              0            1                   0                      1   \n",
       "997              0            1                   0                      0   \n",
       "998              1            0                   0                      0   \n",
       "999              1            0                   1                      0   \n",
       "\n",
       "     education_Master  education_PhD  \n",
       "0                   0              0  \n",
       "1                   1              0  \n",
       "2                   0              0  \n",
       "3                   0              0  \n",
       "4                   1              0  \n",
       "..                ...            ...  \n",
       "995                 0              1  \n",
       "996                 0              0  \n",
       "997                 1              0  \n",
       "998                 1              0  \n",
       "999                 0              0  \n",
       "\n",
       "[1000 rows x 6 columns]"
      ]
     },
     "execution_count": 16,
     "metadata": {},
     "output_type": "execute_result"
    }
   ],
   "source": [
    "# Convert categorical variable into dummy variables\n",
    "\n",
    "dummies = pd.get_dummies(df[['gender', 'education']])\n",
    "dummies"
   ]
  },
  {
   "cell_type": "code",
   "execution_count": 17,
   "id": "9d95ecaf",
   "metadata": {},
   "outputs": [],
   "source": [
    "y = df.spending"
   ]
  },
  {
   "cell_type": "code",
   "execution_count": 18,
   "id": "87eba7e9",
   "metadata": {},
   "outputs": [
    {
     "name": "stdout",
     "output_type": "stream",
     "text": [
      "<class 'pandas.core.frame.DataFrame'>\n",
      "RangeIndex: 1000 entries, 0 to 999\n",
      "Data columns (total 6 columns):\n",
      " #   Column              Non-Null Count  Dtype  \n",
      "---  ------              --------------  -----  \n",
      " 0   age                 1000 non-null   float64\n",
      " 1   purchase_frequency  1000 non-null   float64\n",
      " 2   gender_Female       1000 non-null   uint8  \n",
      " 3   education_Bachelor  1000 non-null   uint8  \n",
      " 4   education_Master    1000 non-null   uint8  \n",
      " 5   education_PhD       1000 non-null   uint8  \n",
      "dtypes: float64(2), uint8(4)\n",
      "memory usage: 19.7 KB\n"
     ]
    }
   ],
   "source": [
    "# Drop the column with the independent variable (spending), and columns which we created dummy variables\n",
    "\n",
    "\n",
    "X_ = df.drop(['name', 'gender','education','country', 'income', 'spending'], axis = 1).astype('float64') \n",
    "\n",
    "# Concatenate X_ with dummy variables\n",
    "\n",
    "X = pd.concat([X_, dummies[['gender_Female', 'education_Bachelor', 'education_Master', 'education_PhD']]], axis = 1)\n",
    "\n",
    "X.info()"
   ]
  },
  {
   "cell_type": "code",
   "execution_count": 19,
   "id": "b6fc2bbe",
   "metadata": {},
   "outputs": [
    {
     "data": {
      "text/html": [
       "<div>\n",
       "<style scoped>\n",
       "    .dataframe tbody tr th:only-of-type {\n",
       "        vertical-align: middle;\n",
       "    }\n",
       "\n",
       "    .dataframe tbody tr th {\n",
       "        vertical-align: top;\n",
       "    }\n",
       "\n",
       "    .dataframe thead th {\n",
       "        text-align: right;\n",
       "    }\n",
       "</style>\n",
       "<table border=\"1\" class=\"dataframe\">\n",
       "  <thead>\n",
       "    <tr style=\"text-align: right;\">\n",
       "      <th></th>\n",
       "      <th>age</th>\n",
       "      <th>purchase_frequency</th>\n",
       "      <th>gender_Female</th>\n",
       "      <th>education_Bachelor</th>\n",
       "      <th>education_Master</th>\n",
       "      <th>education_PhD</th>\n",
       "    </tr>\n",
       "  </thead>\n",
       "  <tbody>\n",
       "    <tr>\n",
       "      <th>0</th>\n",
       "      <td>42.0</td>\n",
       "      <td>0.9</td>\n",
       "      <td>1</td>\n",
       "      <td>0</td>\n",
       "      <td>0</td>\n",
       "      <td>0</td>\n",
       "    </tr>\n",
       "    <tr>\n",
       "      <th>1</th>\n",
       "      <td>49.0</td>\n",
       "      <td>0.6</td>\n",
       "      <td>1</td>\n",
       "      <td>0</td>\n",
       "      <td>1</td>\n",
       "      <td>0</td>\n",
       "    </tr>\n",
       "    <tr>\n",
       "      <th>2</th>\n",
       "      <td>55.0</td>\n",
       "      <td>0.3</td>\n",
       "      <td>0</td>\n",
       "      <td>1</td>\n",
       "      <td>0</td>\n",
       "      <td>0</td>\n",
       "    </tr>\n",
       "    <tr>\n",
       "      <th>3</th>\n",
       "      <td>24.0</td>\n",
       "      <td>0.2</td>\n",
       "      <td>1</td>\n",
       "      <td>1</td>\n",
       "      <td>0</td>\n",
       "      <td>0</td>\n",
       "    </tr>\n",
       "    <tr>\n",
       "      <th>4</th>\n",
       "      <td>64.0</td>\n",
       "      <td>0.9</td>\n",
       "      <td>0</td>\n",
       "      <td>0</td>\n",
       "      <td>1</td>\n",
       "      <td>0</td>\n",
       "    </tr>\n",
       "    <tr>\n",
       "      <th>...</th>\n",
       "      <td>...</td>\n",
       "      <td>...</td>\n",
       "      <td>...</td>\n",
       "      <td>...</td>\n",
       "      <td>...</td>\n",
       "      <td>...</td>\n",
       "    </tr>\n",
       "    <tr>\n",
       "      <th>995</th>\n",
       "      <td>42.0</td>\n",
       "      <td>0.7</td>\n",
       "      <td>1</td>\n",
       "      <td>0</td>\n",
       "      <td>0</td>\n",
       "      <td>1</td>\n",
       "    </tr>\n",
       "    <tr>\n",
       "      <th>996</th>\n",
       "      <td>39.0</td>\n",
       "      <td>0.9</td>\n",
       "      <td>0</td>\n",
       "      <td>0</td>\n",
       "      <td>0</td>\n",
       "      <td>0</td>\n",
       "    </tr>\n",
       "    <tr>\n",
       "      <th>997</th>\n",
       "      <td>50.0</td>\n",
       "      <td>0.4</td>\n",
       "      <td>0</td>\n",
       "      <td>0</td>\n",
       "      <td>1</td>\n",
       "      <td>0</td>\n",
       "    </tr>\n",
       "    <tr>\n",
       "      <th>998</th>\n",
       "      <td>50.0</td>\n",
       "      <td>0.7</td>\n",
       "      <td>1</td>\n",
       "      <td>0</td>\n",
       "      <td>1</td>\n",
       "      <td>0</td>\n",
       "    </tr>\n",
       "    <tr>\n",
       "      <th>999</th>\n",
       "      <td>38.0</td>\n",
       "      <td>0.5</td>\n",
       "      <td>1</td>\n",
       "      <td>1</td>\n",
       "      <td>0</td>\n",
       "      <td>0</td>\n",
       "    </tr>\n",
       "  </tbody>\n",
       "</table>\n",
       "<p>1000 rows × 6 columns</p>\n",
       "</div>"
      ],
      "text/plain": [
       "      age  purchase_frequency  gender_Female  education_Bachelor  \\\n",
       "0    42.0                 0.9              1                   0   \n",
       "1    49.0                 0.6              1                   0   \n",
       "2    55.0                 0.3              0                   1   \n",
       "3    24.0                 0.2              1                   1   \n",
       "4    64.0                 0.9              0                   0   \n",
       "..    ...                 ...            ...                 ...   \n",
       "995  42.0                 0.7              1                   0   \n",
       "996  39.0                 0.9              0                   0   \n",
       "997  50.0                 0.4              0                   0   \n",
       "998  50.0                 0.7              1                   0   \n",
       "999  38.0                 0.5              1                   1   \n",
       "\n",
       "     education_Master  education_PhD  \n",
       "0                   0              0  \n",
       "1                   1              0  \n",
       "2                   0              0  \n",
       "3                   0              0  \n",
       "4                   1              0  \n",
       "..                ...            ...  \n",
       "995                 0              1  \n",
       "996                 0              0  \n",
       "997                 1              0  \n",
       "998                 1              0  \n",
       "999                 0              0  \n",
       "\n",
       "[1000 rows x 6 columns]"
      ]
     },
     "execution_count": 19,
     "metadata": {},
     "output_type": "execute_result"
    }
   ],
   "source": [
    "X"
   ]
  },
  {
   "cell_type": "code",
   "execution_count": 20,
   "id": "007ef064",
   "metadata": {},
   "outputs": [
    {
     "data": {
      "text/plain": [
       "0      13227.120\n",
       "1      12674.040\n",
       "2       5354.115\n",
       "3       2606.510\n",
       "4      18984.780\n",
       "         ...    \n",
       "995    17435.950\n",
       "996    11662.830\n",
       "997     7196.160\n",
       "998    13939.520\n",
       "999     8312.800\n",
       "Name: spending, Length: 1000, dtype: float64"
      ]
     },
     "execution_count": 20,
     "metadata": {},
     "output_type": "execute_result"
    }
   ],
   "source": [
    "y"
   ]
  },
  {
   "cell_type": "code",
   "execution_count": 21,
   "id": "1c49b4fb",
   "metadata": {},
   "outputs": [
    {
     "data": {
      "text/plain": [
       "0      9.490025\n",
       "1      9.447311\n",
       "2      8.585621\n",
       "3      7.865767\n",
       "4      9.851393\n",
       "         ...   \n",
       "995    9.766289\n",
       "996    9.364162\n",
       "997    8.881303\n",
       "998    9.542483\n",
       "999    9.025552\n",
       "Name: spending, Length: 1000, dtype: float64"
      ]
     },
     "execution_count": 21,
     "metadata": {},
     "output_type": "execute_result"
    }
   ],
   "source": [
    "# Calculate the logarithm of spending\n",
    "\n",
    "y = np.log(y)\n",
    "y"
   ]
  },
  {
   "cell_type": "markdown",
   "id": "ce2fbdad",
   "metadata": {},
   "source": [
    "## 5. Modelling"
   ]
  },
  {
   "cell_type": "markdown",
   "id": "430219e0",
   "metadata": {},
   "source": [
    "We're going to implement 4 machine learning model:\n",
    "\n",
    "1. Lasso\n",
    "2. Linear Regression\n",
    "3. Gradient Boosting Regressor\n",
    "4. Random Forest Regressor\n",
    "\n",
    "Firstly, we will split our data into training and test set. We need to standardize the data (μ = 0, σ = 1) that is typically used before we integrate it into the machine learning model."
   ]
  },
  {
   "cell_type": "code",
   "execution_count": 22,
   "id": "f1e763b1",
   "metadata": {},
   "outputs": [],
   "source": [
    "# Split the data into training and test set\n",
    "\n",
    "X_train, X_test, y_train, y_test = train_test_split(X, y, test_size=0.2, random_state=10)\n",
    "\n",
    "scaler = preprocessing.StandardScaler()\n",
    "scaler.fit(X_train)\n",
    "X_trainStandard = scaler.transform(X_train)\n",
    "X_testStandard = scaler.transform(X_test)"
   ]
  },
  {
   "cell_type": "code",
   "execution_count": 23,
   "id": "74bda8a9",
   "metadata": {
    "scrolled": true
   },
   "outputs": [
    {
     "data": {
      "text/html": [
       "<style>#sk-container-id-1 {color: black;background-color: white;}#sk-container-id-1 pre{padding: 0;}#sk-container-id-1 div.sk-toggleable {background-color: white;}#sk-container-id-1 label.sk-toggleable__label {cursor: pointer;display: block;width: 100%;margin-bottom: 0;padding: 0.3em;box-sizing: border-box;text-align: center;}#sk-container-id-1 label.sk-toggleable__label-arrow:before {content: \"▸\";float: left;margin-right: 0.25em;color: #696969;}#sk-container-id-1 label.sk-toggleable__label-arrow:hover:before {color: black;}#sk-container-id-1 div.sk-estimator:hover label.sk-toggleable__label-arrow:before {color: black;}#sk-container-id-1 div.sk-toggleable__content {max-height: 0;max-width: 0;overflow: hidden;text-align: left;background-color: #f0f8ff;}#sk-container-id-1 div.sk-toggleable__content pre {margin: 0.2em;color: black;border-radius: 0.25em;background-color: #f0f8ff;}#sk-container-id-1 input.sk-toggleable__control:checked~div.sk-toggleable__content {max-height: 200px;max-width: 100%;overflow: auto;}#sk-container-id-1 input.sk-toggleable__control:checked~label.sk-toggleable__label-arrow:before {content: \"▾\";}#sk-container-id-1 div.sk-estimator input.sk-toggleable__control:checked~label.sk-toggleable__label {background-color: #d4ebff;}#sk-container-id-1 div.sk-label input.sk-toggleable__control:checked~label.sk-toggleable__label {background-color: #d4ebff;}#sk-container-id-1 input.sk-hidden--visually {border: 0;clip: rect(1px 1px 1px 1px);clip: rect(1px, 1px, 1px, 1px);height: 1px;margin: -1px;overflow: hidden;padding: 0;position: absolute;width: 1px;}#sk-container-id-1 div.sk-estimator {font-family: monospace;background-color: #f0f8ff;border: 1px dotted black;border-radius: 0.25em;box-sizing: border-box;margin-bottom: 0.5em;}#sk-container-id-1 div.sk-estimator:hover {background-color: #d4ebff;}#sk-container-id-1 div.sk-parallel-item::after {content: \"\";width: 100%;border-bottom: 1px solid gray;flex-grow: 1;}#sk-container-id-1 div.sk-label:hover label.sk-toggleable__label {background-color: #d4ebff;}#sk-container-id-1 div.sk-serial::before {content: \"\";position: absolute;border-left: 1px solid gray;box-sizing: border-box;top: 0;bottom: 0;left: 50%;z-index: 0;}#sk-container-id-1 div.sk-serial {display: flex;flex-direction: column;align-items: center;background-color: white;padding-right: 0.2em;padding-left: 0.2em;position: relative;}#sk-container-id-1 div.sk-item {position: relative;z-index: 1;}#sk-container-id-1 div.sk-parallel {display: flex;align-items: stretch;justify-content: center;background-color: white;position: relative;}#sk-container-id-1 div.sk-item::before, #sk-container-id-1 div.sk-parallel-item::before {content: \"\";position: absolute;border-left: 1px solid gray;box-sizing: border-box;top: 0;bottom: 0;left: 50%;z-index: -1;}#sk-container-id-1 div.sk-parallel-item {display: flex;flex-direction: column;z-index: 1;position: relative;background-color: white;}#sk-container-id-1 div.sk-parallel-item:first-child::after {align-self: flex-end;width: 50%;}#sk-container-id-1 div.sk-parallel-item:last-child::after {align-self: flex-start;width: 50%;}#sk-container-id-1 div.sk-parallel-item:only-child::after {width: 0;}#sk-container-id-1 div.sk-dashed-wrapped {border: 1px dashed gray;margin: 0 0.4em 0.5em 0.4em;box-sizing: border-box;padding-bottom: 0.4em;background-color: white;}#sk-container-id-1 div.sk-label label {font-family: monospace;font-weight: bold;display: inline-block;line-height: 1.2em;}#sk-container-id-1 div.sk-label-container {text-align: center;}#sk-container-id-1 div.sk-container {/* jupyter's `normalize.less` sets `[hidden] { display: none; }` but bootstrap.min.css set `[hidden] { display: none !important; }` so we also need the `!important` here to be able to override the default hidden behavior on the sphinx rendered scikit-learn.org. See: https://github.com/scikit-learn/scikit-learn/issues/21755 */display: inline-block !important;position: relative;}#sk-container-id-1 div.sk-text-repr-fallback {display: none;}</style><div id=\"sk-container-id-1\" class=\"sk-top-container\"><div class=\"sk-text-repr-fallback\"><pre>GradientBoostingRegressor(learning_rate=0.001, n_estimators=10000,\n",
       "                          random_state=10)</pre><b>In a Jupyter environment, please rerun this cell to show the HTML representation or trust the notebook. <br />On GitHub, the HTML representation is unable to render, please try loading this page with nbviewer.org.</b></div><div class=\"sk-container\" hidden><div class=\"sk-item\"><div class=\"sk-estimator sk-toggleable\"><input class=\"sk-toggleable__control sk-hidden--visually\" id=\"sk-estimator-id-1\" type=\"checkbox\" checked><label for=\"sk-estimator-id-1\" class=\"sk-toggleable__label sk-toggleable__label-arrow\">GradientBoostingRegressor</label><div class=\"sk-toggleable__content\"><pre>GradientBoostingRegressor(learning_rate=0.001, n_estimators=10000,\n",
       "                          random_state=10)</pre></div></div></div></div></div>"
      ],
      "text/plain": [
       "GradientBoostingRegressor(learning_rate=0.001, n_estimators=10000,\n",
       "                          random_state=10)"
      ]
     },
     "execution_count": 23,
     "metadata": {},
     "output_type": "execute_result"
    }
   ],
   "source": [
    "# Create a pipeline\n",
    "\n",
    "pipe = Pipeline([('scaler', preprocessing.StandardScaler()),('Regressor',LinearRegression())])\n",
    "\n",
    "# Create space of candidate learning algorithms and their hyperparameters\n",
    "\n",
    "gridsearch = [{'Regressor': [Lasso(max_iter = 10000)],\n",
    "               'Regressor__alpha': np.logspace(-3, 1, 10)},\n",
    "              {'Regressor': [LinearRegression()]},\n",
    "              {'Regressor': [GradientBoostingRegressor(random_state = 10)],\n",
    "               'Regressor__n_estimators': [100,1000,5000,10000],\n",
    "               'Regressor__learning_rate':[1,0.1,0.01,0.001]},\n",
    "              {'Regressor': [RandomForestRegressor(random_state = 0)],\n",
    "               'Regressor__n_estimators': [100, 200,300,400,500],\n",
    "               'Regressor__max_features': [3,4,5,6]}]\n",
    "\n",
    "# Create grid search \n",
    "\n",
    "gridsearch = GridSearchCV(pipe, gridsearch, cv=5, verbose=0,scoring='neg_mean_squared_error')\n",
    "\n",
    "# Fit grid search\n",
    "\n",
    "best_model = gridsearch.fit(X_train, y_train)\n",
    "\n",
    "# Get the best model and parameters\n",
    "\n",
    "best_model.best_estimator_.get_params()['Regressor']"
   ]
  },
  {
   "cell_type": "code",
   "execution_count": 24,
   "id": "23f3253d",
   "metadata": {},
   "outputs": [
    {
     "data": {
      "text/html": [
       "<style>#sk-container-id-2 {color: black;background-color: white;}#sk-container-id-2 pre{padding: 0;}#sk-container-id-2 div.sk-toggleable {background-color: white;}#sk-container-id-2 label.sk-toggleable__label {cursor: pointer;display: block;width: 100%;margin-bottom: 0;padding: 0.3em;box-sizing: border-box;text-align: center;}#sk-container-id-2 label.sk-toggleable__label-arrow:before {content: \"▸\";float: left;margin-right: 0.25em;color: #696969;}#sk-container-id-2 label.sk-toggleable__label-arrow:hover:before {color: black;}#sk-container-id-2 div.sk-estimator:hover label.sk-toggleable__label-arrow:before {color: black;}#sk-container-id-2 div.sk-toggleable__content {max-height: 0;max-width: 0;overflow: hidden;text-align: left;background-color: #f0f8ff;}#sk-container-id-2 div.sk-toggleable__content pre {margin: 0.2em;color: black;border-radius: 0.25em;background-color: #f0f8ff;}#sk-container-id-2 input.sk-toggleable__control:checked~div.sk-toggleable__content {max-height: 200px;max-width: 100%;overflow: auto;}#sk-container-id-2 input.sk-toggleable__control:checked~label.sk-toggleable__label-arrow:before {content: \"▾\";}#sk-container-id-2 div.sk-estimator input.sk-toggleable__control:checked~label.sk-toggleable__label {background-color: #d4ebff;}#sk-container-id-2 div.sk-label input.sk-toggleable__control:checked~label.sk-toggleable__label {background-color: #d4ebff;}#sk-container-id-2 input.sk-hidden--visually {border: 0;clip: rect(1px 1px 1px 1px);clip: rect(1px, 1px, 1px, 1px);height: 1px;margin: -1px;overflow: hidden;padding: 0;position: absolute;width: 1px;}#sk-container-id-2 div.sk-estimator {font-family: monospace;background-color: #f0f8ff;border: 1px dotted black;border-radius: 0.25em;box-sizing: border-box;margin-bottom: 0.5em;}#sk-container-id-2 div.sk-estimator:hover {background-color: #d4ebff;}#sk-container-id-2 div.sk-parallel-item::after {content: \"\";width: 100%;border-bottom: 1px solid gray;flex-grow: 1;}#sk-container-id-2 div.sk-label:hover label.sk-toggleable__label {background-color: #d4ebff;}#sk-container-id-2 div.sk-serial::before {content: \"\";position: absolute;border-left: 1px solid gray;box-sizing: border-box;top: 0;bottom: 0;left: 50%;z-index: 0;}#sk-container-id-2 div.sk-serial {display: flex;flex-direction: column;align-items: center;background-color: white;padding-right: 0.2em;padding-left: 0.2em;position: relative;}#sk-container-id-2 div.sk-item {position: relative;z-index: 1;}#sk-container-id-2 div.sk-parallel {display: flex;align-items: stretch;justify-content: center;background-color: white;position: relative;}#sk-container-id-2 div.sk-item::before, #sk-container-id-2 div.sk-parallel-item::before {content: \"\";position: absolute;border-left: 1px solid gray;box-sizing: border-box;top: 0;bottom: 0;left: 50%;z-index: -1;}#sk-container-id-2 div.sk-parallel-item {display: flex;flex-direction: column;z-index: 1;position: relative;background-color: white;}#sk-container-id-2 div.sk-parallel-item:first-child::after {align-self: flex-end;width: 50%;}#sk-container-id-2 div.sk-parallel-item:last-child::after {align-self: flex-start;width: 50%;}#sk-container-id-2 div.sk-parallel-item:only-child::after {width: 0;}#sk-container-id-2 div.sk-dashed-wrapped {border: 1px dashed gray;margin: 0 0.4em 0.5em 0.4em;box-sizing: border-box;padding-bottom: 0.4em;background-color: white;}#sk-container-id-2 div.sk-label label {font-family: monospace;font-weight: bold;display: inline-block;line-height: 1.2em;}#sk-container-id-2 div.sk-label-container {text-align: center;}#sk-container-id-2 div.sk-container {/* jupyter's `normalize.less` sets `[hidden] { display: none; }` but bootstrap.min.css set `[hidden] { display: none !important; }` so we also need the `!important` here to be able to override the default hidden behavior on the sphinx rendered scikit-learn.org. See: https://github.com/scikit-learn/scikit-learn/issues/21755 */display: inline-block !important;position: relative;}#sk-container-id-2 div.sk-text-repr-fallback {display: none;}</style><div id=\"sk-container-id-2\" class=\"sk-top-container\"><div class=\"sk-text-repr-fallback\"><pre>GradientBoostingRegressor(learning_rate=0.001, n_estimators=10000,\n",
       "                          random_state=10)</pre><b>In a Jupyter environment, please rerun this cell to show the HTML representation or trust the notebook. <br />On GitHub, the HTML representation is unable to render, please try loading this page with nbviewer.org.</b></div><div class=\"sk-container\" hidden><div class=\"sk-item\"><div class=\"sk-estimator sk-toggleable\"><input class=\"sk-toggleable__control sk-hidden--visually\" id=\"sk-estimator-id-2\" type=\"checkbox\" checked><label for=\"sk-estimator-id-2\" class=\"sk-toggleable__label sk-toggleable__label-arrow\">GradientBoostingRegressor</label><div class=\"sk-toggleable__content\"><pre>GradientBoostingRegressor(learning_rate=0.001, n_estimators=10000,\n",
       "                          random_state=10)</pre></div></div></div></div></div>"
      ],
      "text/plain": [
       "GradientBoostingRegressor(learning_rate=0.001, n_estimators=10000,\n",
       "                          random_state=10)"
      ]
     },
     "execution_count": 24,
     "metadata": {},
     "output_type": "execute_result"
    }
   ],
   "source": [
    "model = GradientBoostingRegressor(learning_rate=0.001, n_estimators=10000, random_state=10)\n",
    "model.fit(X_trainStandard, y_train)\n",
    "\n",
    "\n"
   ]
  },
  {
   "cell_type": "code",
   "execution_count": 25,
   "id": "074abcc9",
   "metadata": {},
   "outputs": [
    {
     "data": {
      "text/plain": [
       "array([ 8.63035912,  9.70136104,  8.18064332,  7.68972471,  8.46560182,\n",
       "        9.69721992,  8.68359018,  9.36438721,  9.31254285,  9.28486737,\n",
       "        9.19378047,  7.54102399,  8.0444951 ,  8.32793164,  9.54457916,\n",
       "        9.06639393,  9.1743752 ,  9.53299338,  7.33074098,  9.20394029,\n",
       "        7.75983851,  9.26454457,  8.98659235,  7.11183895,  9.79533124,\n",
       "        8.46401378,  9.88709883,  9.66719938,  9.50062357,  9.43922651,\n",
       "        8.24497401,  9.04566673,  8.56076434,  8.28208436,  9.6760785 ,\n",
       "        8.33055752,  9.15838228,  9.36422619,  9.88638937,  9.85514935,\n",
       "        9.03298357,  7.48653535,  9.45167636,  8.86779396,  8.22634593,\n",
       "        7.42700879,  9.7017632 ,  9.42856015,  9.34820632,  8.40413264,\n",
       "        8.00199048,  7.81071356,  9.89675449,  7.62037707,  9.68147117,\n",
       "        9.18014504,  9.61875068,  9.18103615,  9.77402226,  8.70487871,\n",
       "        6.729649  ,  9.49663848,  9.18917597,  9.43331031,  8.17400019,\n",
       "        9.62787843,  9.13161063,  9.06323311,  9.54009425,  9.77692948,\n",
       "        9.31237617,  9.55023795,  8.59030044,  8.77982402,  9.62719267,\n",
       "        9.04399465,  9.08039202,  9.27157242,  7.49649755,  9.42004512,\n",
       "        9.18653826,  7.3688029 ,  8.65332946,  8.20671844,  9.44908696,\n",
       "        9.16312969,  9.36430179,  9.52360182,  8.27705137,  8.82412164,\n",
       "        9.94118097,  9.32042773,  9.53998256,  9.51494462,  8.99289146,\n",
       "        8.65332946,  9.39991602,  9.22635571,  9.28230758,  9.31627469,\n",
       "        9.34420601,  7.7101911 ,  9.5805185 ,  9.33935699,  8.55974872,\n",
       "        7.51059175,  9.15092255,  9.99798405,  8.94525484,  9.43222287,\n",
       "        7.39895773,  7.70952415,  9.16194471,  9.82913736,  9.69436201,\n",
       "        8.57680107,  7.35446146,  9.53644504,  8.77761847,  9.5881367 ,\n",
       "        9.59598634,  7.1799846 ,  7.42524054,  7.58727024,  9.16857246,\n",
       "        8.58082885,  8.58082885,  8.99096008,  8.38299647,  8.66757931,\n",
       "        8.56139167,  7.75525983,  9.76354684,  8.97623255,  8.33407955,\n",
       "        8.50881041,  9.31858789,  8.16663306,  8.6872748 ,  9.5881367 ,\n",
       "        9.34869652,  8.7706858 ,  8.5866739 ,  9.354397  ,  9.26375858,\n",
       "        8.69333624,  8.74394906,  9.28421637,  9.88890318,  9.77153578,\n",
       "        8.85433466,  8.75641263,  9.59182405,  9.98275556,  9.46130178,\n",
       "        7.3290869 ,  9.04208952,  9.28540135,  9.60813351,  9.92526198,\n",
       "        9.38377283,  9.35923023,  9.09994713,  9.23102267,  9.33775301,\n",
       "        8.66264787,  9.5354766 ,  9.89183968,  8.53691076,  9.53131152,\n",
       "        7.62037707,  8.70794613,  8.32927583,  9.69427867,  8.37570258,\n",
       "        9.60684809, 10.1193519 ,  9.62019885,  7.70952415,  7.49649755,\n",
       "        9.44761032,  9.2545388 ,  9.76263289,  9.5881367 ,  8.45894705,\n",
       "        7.72342815,  9.27593643,  9.77988586,  8.85551964,  8.29259169,\n",
       "        8.48083583,  8.93424642,  9.53998256,  7.71991097,  9.60936881,\n",
       "        9.51385911,  9.45491975,  9.54084006,  9.8928711 ,  8.60648747])"
      ]
     },
     "execution_count": 25,
     "metadata": {},
     "output_type": "execute_result"
    }
   ],
   "source": [
    "# Make predictions with tuned model\n",
    "\n",
    "y_pred = model.predict(X_testStandard)\n",
    "y_pred\n"
   ]
  },
  {
   "cell_type": "code",
   "execution_count": 26,
   "id": "48f0c50d",
   "metadata": {},
   "outputs": [
    {
     "name": "stdout",
     "output_type": "stream",
     "text": [
      "Mean Squared Error: 0.0070288669524288215\n"
     ]
    }
   ],
   "source": [
    "print('Mean Squared Error:', metrics.mean_squared_error(y_test, y_pred))"
   ]
  },
  {
   "cell_type": "markdown",
   "id": "ed5db2b8",
   "metadata": {},
   "source": [
    "## Evaluating our model, beyond mean squared error\n",
    "\n",
    "* R2 score\n",
    "* Mean Absolute Error (MAE)\n",
    "* Root Mean Square Error (RMSE)"
   ]
  },
  {
   "cell_type": "code",
   "execution_count": 27,
   "id": "f1984cc1",
   "metadata": {},
   "outputs": [
    {
     "name": "stdout",
     "output_type": "stream",
     "text": [
      "R2: 0.9874466886317079\n"
     ]
    }
   ],
   "source": [
    "print('R2:',metrics.r2_score(y_test, y_pred))"
   ]
  },
  {
   "cell_type": "code",
   "execution_count": 28,
   "id": "74547719",
   "metadata": {},
   "outputs": [
    {
     "name": "stdout",
     "output_type": "stream",
     "text": [
      "MAE: 0.06358192795147838\n"
     ]
    }
   ],
   "source": [
    "print('MAE:', metrics.mean_absolute_error(y_test, y_pred))"
   ]
  },
  {
   "cell_type": "code",
   "execution_count": 29,
   "id": "f2562430",
   "metadata": {},
   "outputs": [
    {
     "name": "stdout",
     "output_type": "stream",
     "text": [
      "RMSE: 0.08383833820173693\n"
     ]
    }
   ],
   "source": [
    "print('RMSE:', np.sqrt(metrics.mean_squared_error(y_test, y_pred)))"
   ]
  }
 ],
 "metadata": {
  "kernelspec": {
   "display_name": "Python 3 (ipykernel)",
   "language": "python",
   "name": "python3"
  },
  "language_info": {
   "codemirror_mode": {
    "name": "ipython",
    "version": 3
   },
   "file_extension": ".py",
   "mimetype": "text/x-python",
   "name": "python",
   "nbconvert_exporter": "python",
   "pygments_lexer": "ipython3",
   "version": "3.10.9"
  }
 },
 "nbformat": 4,
 "nbformat_minor": 5
}
